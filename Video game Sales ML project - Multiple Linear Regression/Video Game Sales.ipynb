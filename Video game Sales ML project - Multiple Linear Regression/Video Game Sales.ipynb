{
 "cells": [
  {
   "cell_type": "markdown",
   "id": "dbef511c-eb57-4cdc-b3de-69742c0e4385",
   "metadata": {},
   "source": [
    "<center>\n",
    "    <img src=\"https://storage.googleapis.com/kaggle-datasets-images/2954789/5088467/c46f907e6bc947152a53bd043d3ec7af/dataset-cover.jpg?t=2023-03-15-10-40-35\" width=\"300\" alt=\"cognitiveclass.ai logo\"  />\n",
    "</center>\n",
    "\n",
    "# My First Multiple linear regression lab in machine learning\n",
    "## It is about video game sales \n",
    "##### multiple Linear Regression\n",
    "####\n"
   ]
  },
  {
   "cell_type": "markdown",
   "id": "a16dbde6-8901-4bfd-bd5c-df640d01cac1",
   "metadata": {},
   "source": [
    "## Importing Needed package"
   ]
  },
  {
   "cell_type": "code",
   "execution_count": 30,
   "id": "00c3320f-247b-4bec-8c54-ecd1fc340514",
   "metadata": {},
   "outputs": [],
   "source": [
    "import numpy as np \n",
    "import pandas as pd \n",
    "import pylab as pl\n",
    "import matplotlib.pyplot as plt\n",
    "%matplotlib inline"
   ]
  },
  {
   "cell_type": "markdown",
   "id": "971e29ef-e47d-44a9-b39d-140153baa346",
   "metadata": {},
   "source": [
    "## Reading the data in "
   ]
  },
  {
   "cell_type": "code",
   "execution_count": 31,
   "id": "57d223cf-9fb4-43c3-9f76-6522e0d53c13",
   "metadata": {},
   "outputs": [
    {
     "data": {
      "text/html": [
       "<div>\n",
       "<style scoped>\n",
       "    .dataframe tbody tr th:only-of-type {\n",
       "        vertical-align: middle;\n",
       "    }\n",
       "\n",
       "    .dataframe tbody tr th {\n",
       "        vertical-align: top;\n",
       "    }\n",
       "\n",
       "    .dataframe thead th {\n",
       "        text-align: right;\n",
       "    }\n",
       "</style>\n",
       "<table border=\"1\" class=\"dataframe\">\n",
       "  <thead>\n",
       "    <tr style=\"text-align: right;\">\n",
       "      <th></th>\n",
       "      <th>rank</th>\n",
       "      <th>name</th>\n",
       "      <th>platform</th>\n",
       "      <th>year</th>\n",
       "      <th>genre</th>\n",
       "      <th>publisher</th>\n",
       "      <th>na_sales</th>\n",
       "      <th>eu_sales</th>\n",
       "      <th>jp_sales</th>\n",
       "      <th>other_sales</th>\n",
       "      <th>global_sales</th>\n",
       "    </tr>\n",
       "  </thead>\n",
       "  <tbody>\n",
       "    <tr>\n",
       "      <th>0</th>\n",
       "      <td>1</td>\n",
       "      <td>Wii Sports</td>\n",
       "      <td>Wii</td>\n",
       "      <td>2006.0</td>\n",
       "      <td>Sports</td>\n",
       "      <td>Nintendo</td>\n",
       "      <td>41.49</td>\n",
       "      <td>29.02</td>\n",
       "      <td>3.77</td>\n",
       "      <td>8.46</td>\n",
       "      <td>82.74</td>\n",
       "    </tr>\n",
       "    <tr>\n",
       "      <th>1</th>\n",
       "      <td>2</td>\n",
       "      <td>Super Mario Bros.</td>\n",
       "      <td>NES</td>\n",
       "      <td>1985.0</td>\n",
       "      <td>Platform</td>\n",
       "      <td>Nintendo</td>\n",
       "      <td>29.08</td>\n",
       "      <td>3.58</td>\n",
       "      <td>6.81</td>\n",
       "      <td>0.77</td>\n",
       "      <td>40.24</td>\n",
       "    </tr>\n",
       "    <tr>\n",
       "      <th>2</th>\n",
       "      <td>3</td>\n",
       "      <td>Mario Kart Wii</td>\n",
       "      <td>Wii</td>\n",
       "      <td>2008.0</td>\n",
       "      <td>Racing</td>\n",
       "      <td>Nintendo</td>\n",
       "      <td>15.85</td>\n",
       "      <td>12.88</td>\n",
       "      <td>3.79</td>\n",
       "      <td>3.31</td>\n",
       "      <td>35.82</td>\n",
       "    </tr>\n",
       "    <tr>\n",
       "      <th>3</th>\n",
       "      <td>4</td>\n",
       "      <td>Wii Sports Resort</td>\n",
       "      <td>Wii</td>\n",
       "      <td>2009.0</td>\n",
       "      <td>Sports</td>\n",
       "      <td>Nintendo</td>\n",
       "      <td>15.75</td>\n",
       "      <td>11.01</td>\n",
       "      <td>3.28</td>\n",
       "      <td>2.96</td>\n",
       "      <td>33.00</td>\n",
       "    </tr>\n",
       "    <tr>\n",
       "      <th>4</th>\n",
       "      <td>5</td>\n",
       "      <td>Pokemon Red/Pokemon Blue</td>\n",
       "      <td>GB</td>\n",
       "      <td>1996.0</td>\n",
       "      <td>Role-Playing</td>\n",
       "      <td>Nintendo</td>\n",
       "      <td>11.27</td>\n",
       "      <td>8.89</td>\n",
       "      <td>10.22</td>\n",
       "      <td>1.00</td>\n",
       "      <td>31.37</td>\n",
       "    </tr>\n",
       "    <tr>\n",
       "      <th>5</th>\n",
       "      <td>6</td>\n",
       "      <td>Tetris</td>\n",
       "      <td>GB</td>\n",
       "      <td>1989.0</td>\n",
       "      <td>Puzzle</td>\n",
       "      <td>Nintendo</td>\n",
       "      <td>23.20</td>\n",
       "      <td>2.26</td>\n",
       "      <td>4.22</td>\n",
       "      <td>0.58</td>\n",
       "      <td>30.26</td>\n",
       "    </tr>\n",
       "    <tr>\n",
       "      <th>6</th>\n",
       "      <td>7</td>\n",
       "      <td>New Super Mario Bros.</td>\n",
       "      <td>DS</td>\n",
       "      <td>2006.0</td>\n",
       "      <td>Platform</td>\n",
       "      <td>Nintendo</td>\n",
       "      <td>11.38</td>\n",
       "      <td>9.23</td>\n",
       "      <td>6.50</td>\n",
       "      <td>2.90</td>\n",
       "      <td>30.01</td>\n",
       "    </tr>\n",
       "    <tr>\n",
       "      <th>7</th>\n",
       "      <td>8</td>\n",
       "      <td>Wii Play</td>\n",
       "      <td>Wii</td>\n",
       "      <td>2006.0</td>\n",
       "      <td>Misc</td>\n",
       "      <td>Nintendo</td>\n",
       "      <td>14.03</td>\n",
       "      <td>9.20</td>\n",
       "      <td>2.93</td>\n",
       "      <td>2.85</td>\n",
       "      <td>29.02</td>\n",
       "    </tr>\n",
       "    <tr>\n",
       "      <th>8</th>\n",
       "      <td>9</td>\n",
       "      <td>New Super Mario Bros. Wii</td>\n",
       "      <td>Wii</td>\n",
       "      <td>2009.0</td>\n",
       "      <td>Platform</td>\n",
       "      <td>Nintendo</td>\n",
       "      <td>14.59</td>\n",
       "      <td>7.06</td>\n",
       "      <td>4.70</td>\n",
       "      <td>2.26</td>\n",
       "      <td>28.62</td>\n",
       "    </tr>\n",
       "    <tr>\n",
       "      <th>9</th>\n",
       "      <td>10</td>\n",
       "      <td>Duck Hunt</td>\n",
       "      <td>NES</td>\n",
       "      <td>1984.0</td>\n",
       "      <td>Shooter</td>\n",
       "      <td>Nintendo</td>\n",
       "      <td>26.93</td>\n",
       "      <td>0.63</td>\n",
       "      <td>0.28</td>\n",
       "      <td>0.47</td>\n",
       "      <td>28.31</td>\n",
       "    </tr>\n",
       "  </tbody>\n",
       "</table>\n",
       "</div>"
      ],
      "text/plain": [
       "   rank                       name platform    year         genre publisher  \\\n",
       "0     1                 Wii Sports      Wii  2006.0        Sports  Nintendo   \n",
       "1     2          Super Mario Bros.      NES  1985.0      Platform  Nintendo   \n",
       "2     3             Mario Kart Wii      Wii  2008.0        Racing  Nintendo   \n",
       "3     4          Wii Sports Resort      Wii  2009.0        Sports  Nintendo   \n",
       "4     5   Pokemon Red/Pokemon Blue       GB  1996.0  Role-Playing  Nintendo   \n",
       "5     6                     Tetris       GB  1989.0        Puzzle  Nintendo   \n",
       "6     7      New Super Mario Bros.       DS  2006.0      Platform  Nintendo   \n",
       "7     8                   Wii Play      Wii  2006.0          Misc  Nintendo   \n",
       "8     9  New Super Mario Bros. Wii      Wii  2009.0      Platform  Nintendo   \n",
       "9    10                  Duck Hunt      NES  1984.0       Shooter  Nintendo   \n",
       "\n",
       "   na_sales  eu_sales  jp_sales  other_sales  global_sales  \n",
       "0     41.49     29.02      3.77         8.46         82.74  \n",
       "1     29.08      3.58      6.81         0.77         40.24  \n",
       "2     15.85     12.88      3.79         3.31         35.82  \n",
       "3     15.75     11.01      3.28         2.96         33.00  \n",
       "4     11.27      8.89     10.22         1.00         31.37  \n",
       "5     23.20      2.26      4.22         0.58         30.26  \n",
       "6     11.38      9.23      6.50         2.90         30.01  \n",
       "7     14.03      9.20      2.93         2.85         29.02  \n",
       "8     14.59      7.06      4.70         2.26         28.62  \n",
       "9     26.93      0.63      0.28         0.47         28.31  "
      ]
     },
     "execution_count": 31,
     "metadata": {},
     "output_type": "execute_result"
    }
   ],
   "source": [
    "df = pd.read_csv(\"video_games_sales.csv\")\n",
    "\n",
    "df.head(10)"
   ]
  },
  {
   "cell_type": "markdown",
   "id": "c442df70-5982-4abf-83f6-887e48dd70f1",
   "metadata": {},
   "source": [
    "#### Let's select some features that we want to use for regression."
   ]
  },
  {
   "cell_type": "code",
   "execution_count": 70,
   "id": "2deaf5d1-1148-486b-bbd3-c90122d66c01",
   "metadata": {},
   "outputs": [
    {
     "data": {
      "text/html": [
       "<div>\n",
       "<style scoped>\n",
       "    .dataframe tbody tr th:only-of-type {\n",
       "        vertical-align: middle;\n",
       "    }\n",
       "\n",
       "    .dataframe tbody tr th {\n",
       "        vertical-align: top;\n",
       "    }\n",
       "\n",
       "    .dataframe thead th {\n",
       "        text-align: right;\n",
       "    }\n",
       "</style>\n",
       "<table border=\"1\" class=\"dataframe\">\n",
       "  <thead>\n",
       "    <tr style=\"text-align: right;\">\n",
       "      <th></th>\n",
       "      <th>name</th>\n",
       "      <th>na_sales</th>\n",
       "      <th>eu_sales</th>\n",
       "      <th>jp_sales</th>\n",
       "      <th>other_sales</th>\n",
       "      <th>global_sales</th>\n",
       "    </tr>\n",
       "  </thead>\n",
       "  <tbody>\n",
       "    <tr>\n",
       "      <th>0</th>\n",
       "      <td>Wii Sports</td>\n",
       "      <td>41.49</td>\n",
       "      <td>29.02</td>\n",
       "      <td>3.77</td>\n",
       "      <td>8.46</td>\n",
       "      <td>82.74</td>\n",
       "    </tr>\n",
       "    <tr>\n",
       "      <th>1</th>\n",
       "      <td>Super Mario Bros.</td>\n",
       "      <td>29.08</td>\n",
       "      <td>3.58</td>\n",
       "      <td>6.81</td>\n",
       "      <td>0.77</td>\n",
       "      <td>40.24</td>\n",
       "    </tr>\n",
       "    <tr>\n",
       "      <th>2</th>\n",
       "      <td>Mario Kart Wii</td>\n",
       "      <td>15.85</td>\n",
       "      <td>12.88</td>\n",
       "      <td>3.79</td>\n",
       "      <td>3.31</td>\n",
       "      <td>35.82</td>\n",
       "    </tr>\n",
       "    <tr>\n",
       "      <th>3</th>\n",
       "      <td>Wii Sports Resort</td>\n",
       "      <td>15.75</td>\n",
       "      <td>11.01</td>\n",
       "      <td>3.28</td>\n",
       "      <td>2.96</td>\n",
       "      <td>33.00</td>\n",
       "    </tr>\n",
       "    <tr>\n",
       "      <th>4</th>\n",
       "      <td>Pokemon Red/Pokemon Blue</td>\n",
       "      <td>11.27</td>\n",
       "      <td>8.89</td>\n",
       "      <td>10.22</td>\n",
       "      <td>1.00</td>\n",
       "      <td>31.37</td>\n",
       "    </tr>\n",
       "  </tbody>\n",
       "</table>\n",
       "</div>"
      ],
      "text/plain": [
       "                       name  na_sales  eu_sales  jp_sales  other_sales  \\\n",
       "0                Wii Sports     41.49     29.02      3.77         8.46   \n",
       "1         Super Mario Bros.     29.08      3.58      6.81         0.77   \n",
       "2            Mario Kart Wii     15.85     12.88      3.79         3.31   \n",
       "3         Wii Sports Resort     15.75     11.01      3.28         2.96   \n",
       "4  Pokemon Red/Pokemon Blue     11.27      8.89     10.22         1.00   \n",
       "\n",
       "   global_sales  \n",
       "0         82.74  \n",
       "1         40.24  \n",
       "2         35.82  \n",
       "3         33.00  \n",
       "4         31.37  "
      ]
     },
     "execution_count": 70,
     "metadata": {},
     "output_type": "execute_result"
    }
   ],
   "source": [
    "cdf = df[[\"name\", \"na_sales\" , \"eu_sales\", \"jp_sales\", \"other_sales\" , \"global_sales\"]]\n",
    "cdf.head()"
   ]
  },
  {
   "cell_type": "markdown",
   "id": "c12a0f5f-3053-43b5-8a90-9e6288ec7495",
   "metadata": {},
   "source": [
    "##\n",
    "## Select only the first 1000 data"
   ]
  },
  {
   "cell_type": "code",
   "execution_count": 71,
   "id": "6b08cf00-52f6-40da-970a-fef025aac803",
   "metadata": {},
   "outputs": [],
   "source": [
    "dfx = cdf.iloc[:1000]"
   ]
  },
  {
   "cell_type": "markdown",
   "id": "56c552a6-0c55-4523-b3de-aecf633173cc",
   "metadata": {},
   "source": [
    "##### Let's plot Global Sales sales values with respect to Japon sales:"
   ]
  },
  {
   "cell_type": "code",
   "execution_count": 73,
   "id": "9d9e3515-a5fd-400a-9963-063465c687bb",
   "metadata": {},
   "outputs": [
    {
     "data": {
      "image/png": "[encoded data removed]",
      "text/plain": [
       "<Figure size 640x480 with 1 Axes>"
      ]
     },
     "metadata": {},
     "output_type": "display_data"
    }
   ],
   "source": [
    "plt.scatter(dfx.jp_sales, dfx.global_sales, color=\"red\")\n",
    "plt.xlabel(\"Japon Sales\")\n",
    "plt.ylabel(\"Global Sales\")\n",
    "plt.show()"
   ]
  },
  {
   "cell_type": "code",
   "execution_count": 74,
   "id": "1d369c91-92a8-457a-a79b-3b04fb0b24f9",
   "metadata": {},
   "outputs": [
    {
     "data": {
      "image/png": "[encoded data removed]",
      "text/plain": [
       "<Figure size 640x480 with 1 Axes>"
      ]
     },
     "metadata": {},
     "output_type": "display_data"
    }
   ],
   "source": [
    "plt.scatter(dfx.eu_sales, dfx.global_sales, color=\"red\")\n",
    "plt.xlabel(\"Europe Sales\")\n",
    "plt.ylabel(\"Global Sales\")\n",
    "plt.show()"
   ]
  },
  {
   "cell_type": "code",
   "execution_count": 75,
   "id": "306282ef-1078-4746-a020-29128e395371",
   "metadata": {},
   "outputs": [
    {
     "data": {
      "image/png": "[encoded data removed]",
      "text/plain": [
       "<Figure size 640x480 with 1 Axes>"
      ]
     },
     "metadata": {},
     "output_type": "display_data"
    }
   ],
   "source": [
    "plt.scatter(dfx.na_sales, dfx.global_sales, color=\"red\")\n",
    "plt.xlabel(\"North America Sales\")\n",
    "plt.ylabel(\"Global Sales\")\n",
    "plt.show()"
   ]
  },
  {
   "cell_type": "code",
   "execution_count": 76,
   "id": "124ef455-3c39-4925-af48-062d531b60db",
   "metadata": {},
   "outputs": [
    {
     "data": {
      "image/png": "[encoded data removed]",
      "text/plain": [
       "<Figure size 640x480 with 1 Axes>"
      ]
     },
     "metadata": {},
     "output_type": "display_data"
    }
   ],
   "source": [
    "plt.scatter(dfx.other_sales, dfx.global_sales, color=\"red\")\n",
    "plt.xlabel(\"Other Sales\")\n",
    "plt.ylabel(\"Global Sales\")\n",
    "plt.show()"
   ]
  },
  {
   "cell_type": "markdown",
   "id": "5bd66ab9-b47d-4b23-a07f-bdda67e2e35e",
   "metadata": {},
   "source": [
    "###\n",
    "## Creating train and test database"
   ]
  },
  {
   "cell_type": "code",
   "execution_count": 78,
   "id": "79acdd25-4fd2-449e-8b4a-d56124b3c371",
   "metadata": {
    "scrolled": true
   },
   "outputs": [
    {
     "name": "stdout",
     "output_type": "stream",
     "text": [
      "[ True  True  True False False  True  True  True  True  True  True  True\n",
      "  True  True  True False False  True False False False  True  True  True\n",
      " False  True  True False  True  True  True False  True  True  True False\n",
      "  True  True  True  True  True  True False  True False  True  True  True\n",
      " False  True  True  True  True False False  True  True  True  True False\n",
      "  True  True  True  True  True  True  True  True  True  True  True  True\n",
      "  True False  True False False  True  True  True  True  True  True False\n",
      "  True  True  True  True  True  True  True  True  True  True False  True\n",
      "  True  True False  True  True False False  True  True False  True  True\n",
      "  True False  True  True  True  True  True  True  True  True  True  True\n",
      "  True False  True  True False  True  True False  True  True  True  True\n",
      "  True  True  True  True  True  True  True  True  True  True  True  True\n",
      " False  True  True  True False  True False False  True  True False  True\n",
      "  True  True  True  True False  True  True  True  True  True False False\n",
      "  True False  True  True  True False False False  True  True  True  True\n",
      "  True  True False False  True False  True  True  True  True False  True\n",
      "  True  True  True  True  True  True  True  True False  True  True  True\n",
      "  True  True  True  True  True  True  True  True  True  True  True  True\n",
      "  True  True  True  True  True  True  True  True False False  True False\n",
      "  True  True  True False  True  True  True  True  True  True  True False\n",
      "  True  True  True  True  True  True  True  True  True  True  True  True\n",
      "  True  True  True  True  True  True  True  True  True  True False  True\n",
      "  True  True  True  True  True  True  True  True  True  True  True  True\n",
      "  True  True  True False  True False False  True  True  True  True  True\n",
      "  True False  True  True  True False  True False  True  True  True  True\n",
      "  True  True  True  True  True False  True  True  True False  True  True\n",
      " False  True  True  True  True  True  True  True False  True  True  True\n",
      " False False  True  True False  True  True  True  True False  True  True\n",
      " False  True  True  True  True  True  True False  True  True  True  True\n",
      " False  True  True  True  True  True  True False  True  True  True  True\n",
      "  True  True False  True  True  True  True  True False  True  True  True\n",
      "  True  True  True  True  True False  True  True False  True False  True\n",
      " False False  True  True  True  True  True False  True  True  True  True\n",
      "  True  True False  True False  True  True False False  True  True False\n",
      "  True False  True False  True  True  True  True False  True  True  True\n",
      "  True  True  True False  True  True  True  True  True False  True  True\n",
      "  True  True False  True  True False False  True  True False  True  True\n",
      "  True  True  True False  True  True  True False  True  True  True  True\n",
      "  True  True False  True  True False  True False  True  True  True  True\n",
      "  True  True  True False  True False  True  True False  True False  True\n",
      "  True  True  True False False  True  True False  True  True  True  True\n",
      "  True  True  True  True False  True  True  True  True  True  True  True\n",
      "  True  True  True False  True  True  True False False  True False  True\n",
      " False  True  True False False False  True False  True  True False  True\n",
      "  True  True  True  True  True  True  True  True  True  True False  True\n",
      " False  True  True  True  True  True  True  True  True  True  True  True\n",
      "  True  True  True False  True False False  True  True False False  True\n",
      "  True  True  True  True False  True  True False  True  True  True  True\n",
      "  True  True False  True  True  True False  True False  True  True  True\n",
      "  True  True  True False  True  True  True  True  True False  True  True\n",
      "  True False  True False  True  True  True False  True  True  True  True\n",
      "  True  True False False  True  True  True  True False  True  True  True\n",
      "  True  True False  True  True  True False  True  True False  True  True\n",
      "  True  True  True  True  True  True  True  True  True  True  True  True\n",
      "  True  True  True  True  True False  True  True  True False  True  True\n",
      " False False  True  True  True  True  True  True False  True False  True\n",
      "  True  True  True  True False  True  True  True  True  True  True  True\n",
      "  True  True  True  True  True  True  True  True False  True  True False\n",
      "  True  True  True  True False  True  True False  True  True  True  True\n",
      "  True  True  True  True  True  True  True  True  True  True  True False\n",
      "  True  True  True  True False  True  True False  True  True  True  True\n",
      " False  True  True  True  True False  True  True  True False  True False\n",
      "  True False  True  True False False  True  True  True  True  True  True\n",
      " False  True  True  True  True  True  True  True  True  True False  True\n",
      " False  True  True  True  True  True False  True  True  True  True  True\n",
      "  True False  True  True False  True  True  True  True  True  True  True\n",
      "  True  True  True  True False  True  True False  True  True  True False\n",
      "  True  True  True  True  True  True  True  True  True  True  True  True\n",
      "  True  True  True  True  True  True  True  True False  True False  True\n",
      "  True  True  True False  True False  True  True False  True  True  True\n",
      " False  True  True  True False  True  True  True  True  True  True False\n",
      "  True  True  True  True  True  True  True  True  True  True  True  True\n",
      "  True False False  True False False  True  True  True False  True False\n",
      "  True  True  True False  True  True False  True  True  True  True False\n",
      "  True  True  True  True  True False  True False  True  True  True  True\n",
      "  True False  True  True  True  True  True  True False  True  True  True\n",
      "  True  True  True  True False  True False  True  True  True  True  True\n",
      "  True  True  True  True  True False False  True False  True  True False\n",
      " False  True  True False  True False  True  True  True  True  True  True\n",
      "  True  True  True  True  True  True  True  True  True  True  True  True\n",
      " False  True False False  True  True  True  True  True  True  True  True\n",
      "  True  True False  True  True  True  True  True  True False  True  True\n",
      "  True  True False  True  True  True  True  True  True  True  True  True\n",
      "  True  True  True  True]\n",
      "[False False False  True  True False False False False False False False\n",
      " False False False  True  True False  True  True  True False False False\n",
      "  True False False  True False False False  True False False False  True\n",
      " False False False False False False  True False  True False False False\n",
      "  True False False False False  True  True False False False False  True\n",
      " False False False False False False False False False False False False\n",
      " False  True False  True  True False False False False False False  True\n",
      " False False False False False False False False False False  True False\n",
      " False False  True False False  True  True False False  True False False\n",
      " False  True False False False False False False False False False False\n",
      " False  True False False  True False False  True False False False False\n",
      " False False False False False False False False False False False False\n",
      "  True False False False  True False  True  True False False  True False\n",
      " False False False False  True False False False False False  True  True\n",
      " False  True False False False  True  True  True False False False False\n",
      " False False  True  True False  True False False False False  True False\n",
      " False False False False False False False False  True False False False\n",
      " False False False False False False False False False False False False\n",
      " False False False False False False False False  True  True False  True\n",
      " False False False  True False False False False False False False  True\n",
      " False False False False False False False False False False False False\n",
      " False False False False False False False False False False  True False\n",
      " False False False False False False False False False False False False\n",
      " False False False  True False  True  True False False False False False\n",
      " False  True False False False  True False  True False False False False\n",
      " False False False False False  True False False False  True False False\n",
      "  True False False False False False False False  True False False False\n",
      "  True  True False False  True False False False False  True False False\n",
      "  True False False False False False False  True False False False False\n",
      "  True False False False False False False  True False False False False\n",
      " False False  True False False False False False  True False False False\n",
      " False False False False False  True False False  True False  True False\n",
      "  True  True False False False False False  True False False False False\n",
      " False False  True False  True False False  True  True False False  True\n",
      " False  True False  True False False False False  True False False False\n",
      " False False False  True False False False False False  True False False\n",
      " False False  True False False  True  True False False  True False False\n",
      " False False False  True False False False  True False False False False\n",
      " False False  True False False  True False  True False False False False\n",
      " False False False  True False  True False False  True False  True False\n",
      " False False False  True  True False False  True False False False False\n",
      " False False False False  True False False False False False False False\n",
      " False False False  True False False False  True  True False  True False\n",
      "  True False False  True  True  True False  True False False  True False\n",
      " False False False False False False False False False False  True False\n",
      "  True False False False False False False False False False False False\n",
      " False False False  True False  True  True False False  True  True False\n",
      " False False False False  True False False  True False False False False\n",
      " False False  True False False False  True False  True False False False\n",
      " False False False  True False False False False False  True False False\n",
      " False  True False  True False False False  True False False False False\n",
      " False False  True  True False False False False  True False False False\n",
      " False False  True False False False  True False False  True False False\n",
      " False False False False False False False False False False False False\n",
      " False False False False False  True False False False  True False False\n",
      "  True  True False False False False False False  True False  True False\n",
      " False False False False  True False False False False False False False\n",
      " False False False False False False False False  True False False  True\n",
      " False False False False  True False False  True False False False False\n",
      " False False False False False False False False False False False  True\n",
      " False False False False  True False False  True False False False False\n",
      "  True False False False False  True False False False  True False  True\n",
      " False  True False False  True  True False False False False False False\n",
      "  True False False False False False False False False False  True False\n",
      "  True False False False False False  True False False False False False\n",
      " False  True False False  True False False False False False False False\n",
      " False False False False  True False False  True False False False  True\n",
      " False False False False False False False False False False False False\n",
      " False False False False False False False False  True False  True False\n",
      " False False False  True False  True False False  True False False False\n",
      "  True False False False  True False False False False False False  True\n",
      " False False False False False False False False False False False False\n",
      " False  True  True False  True  True False False False  True False  True\n",
      " False False False  True False False  True False False False False  True\n",
      " False False False False False  True False  True False False False False\n",
      " False  True False False False False False False  True False False False\n",
      " False False False False  True False  True False False False False False\n",
      " False False False False False  True  True False  True False False  True\n",
      "  True False False  True False  True False False False False False False\n",
      " False False False False False False False False False False False False\n",
      "  True False  True  True False False False False False False False False\n",
      " False False  True False False False False False False  True False False\n",
      " False False  True False False False False False False False False False\n",
      " False False False False]\n",
      "                                                  name  na_sales  eu_sales  \\\n",
      "0                                           Wii Sports     41.49     29.02   \n",
      "1                                    Super Mario Bros.     29.08      3.58   \n",
      "2                                       Mario Kart Wii     15.85     12.88   \n",
      "3                                    Wii Sports Resort     15.75     11.01   \n",
      "4                             Pokemon Red/Pokemon Blue     11.27      8.89   \n",
      "..                                                 ...       ...       ...   \n",
      "995                                 State of Emergency      0.86      0.67   \n",
      "996                                  BioShock Infinite      0.72      0.69   \n",
      "997                                 Hitman: Absolution      0.68      0.90   \n",
      "998  2 Games in 1 Double Pack: The Incredibles / Fi...      1.26      0.47   \n",
      "999                          Call of Duty: Black Ops 3      1.11      0.48   \n",
      "\n",
      "     jp_sales  other_sales  global_sales  \n",
      "0        3.77         8.46         82.74  \n",
      "1        6.81         0.77         40.24  \n",
      "2        3.79         3.31         35.82  \n",
      "3        3.28         2.96         33.00  \n",
      "4       10.22         1.00         31.37  \n",
      "..        ...          ...           ...  \n",
      "995      0.00         0.22          1.76  \n",
      "996      0.04         0.31          1.76  \n",
      "997      0.01         0.17          1.76  \n",
      "998      0.00         0.03          1.76  \n",
      "999      0.00         0.16          1.76  \n",
      "\n",
      "[1000 rows x 6 columns]\n",
      "                                                  name  na_sales  eu_sales  \\\n",
      "0                                           Wii Sports     41.49     29.02   \n",
      "1                                    Super Mario Bros.     29.08      3.58   \n",
      "2                                       Mario Kart Wii     15.85     12.88   \n",
      "5                                               Tetris     23.20      2.26   \n",
      "6                                New Super Mario Bros.     11.38      9.23   \n",
      "..                                                 ...       ...       ...   \n",
      "995                                 State of Emergency      0.86      0.67   \n",
      "996                                  BioShock Infinite      0.72      0.69   \n",
      "997                                 Hitman: Absolution      0.68      0.90   \n",
      "998  2 Games in 1 Double Pack: The Incredibles / Fi...      1.26      0.47   \n",
      "999                          Call of Duty: Black Ops 3      1.11      0.48   \n",
      "\n",
      "     jp_sales  other_sales  global_sales  \n",
      "0        3.77         8.46         82.74  \n",
      "1        6.81         0.77         40.24  \n",
      "2        3.79         3.31         35.82  \n",
      "5        4.22         0.58         30.26  \n",
      "6        6.50         2.90         30.01  \n",
      "..        ...          ...           ...  \n",
      "995      0.00         0.22          1.76  \n",
      "996      0.04         0.31          1.76  \n",
      "997      0.01         0.17          1.76  \n",
      "998      0.00         0.03          1.76  \n",
      "999      0.00         0.16          1.76  \n",
      "\n",
      "[795 rows x 6 columns]\n",
      "                          name  na_sales  eu_sales  jp_sales  other_sales  \\\n",
      "3            Wii Sports Resort     15.75     11.01      3.28         2.96   \n",
      "4     Pokemon Red/Pokemon Blue     11.27      8.89     10.22         1.00   \n",
      "15          Kinect Adventures!     14.97      4.94      0.24         1.67   \n",
      "16          Grand Theft Auto V      7.01      9.27      0.97         4.14   \n",
      "18           Super Mario World     12.78      3.75      3.54         0.55   \n",
      "..                         ...       ...       ...       ...          ...   \n",
      "962    Guitar Hero: World Tour      1.00      0.03      0.00         0.77   \n",
      "963            Sonic Advance 2      0.93      0.59      0.21         0.07   \n",
      "974  The Getaway: Black Monday      0.39      1.01      0.02         0.36   \n",
      "981                Wii Party U      0.31      0.54      0.84         0.08   \n",
      "986        UFC 2009 Undisputed      1.07      0.45      0.01         0.24   \n",
      "\n",
      "     global_sales  \n",
      "3           33.00  \n",
      "4           31.37  \n",
      "15          21.82  \n",
      "16          21.40  \n",
      "18          20.61  \n",
      "..            ...  \n",
      "962          1.80  \n",
      "963          1.80  \n",
      "974          1.78  \n",
      "981          1.77  \n",
      "986          1.77  \n",
      "\n",
      "[205 rows x 6 columns]\n"
     ]
    }
   ],
   "source": [
    "msk = np.random.rand(len(dfx)) < 0.8\n",
    "train = dfx[msk]\n",
    "test = dfx[~msk]\n",
    "print(msk)\n",
    "print(~msk)\n",
    "print(dfx)\n",
    "print(train)\n",
    "print(test)"
   ]
  },
  {
   "cell_type": "markdown",
   "id": "74574577-ac95-400f-9c6a-226f7ecf1be3",
   "metadata": {},
   "source": [
    "### Train data distribution "
   ]
  },
  {
   "cell_type": "code",
   "execution_count": 80,
   "id": "6020aafb-a907-4289-a4c3-a36d9ee4d6a3",
   "metadata": {},
   "outputs": [
    {
     "data": {
      "image/png": "[encoded data removed]",
      "text/plain": [
       "<Figure size 640x480 with 1 Axes>"
      ]
     },
     "metadata": {},
     "output_type": "display_data"
    }
   ],
   "source": [
    "fig = plt.figure()\n",
    "af1 = fig.add_subplot()\n",
    "af1.scatter(train.jp_sales, train.global_sales, color = 'red')\n",
    "af1.scatter(test.jp_sales, test.global_sales, color = 'blue')\n",
    "plt.xlabel(\"japon sales\")\n",
    "plt.ylabel(\"global sales\")\n",
    "plt.show()"
   ]
  },
  {
   "cell_type": "markdown",
   "id": "efe9ac12-5414-445e-82ae-708da038ae5e",
   "metadata": {},
   "source": [
    "####\n",
    "# Multiple Regression Model"
   ]
  },
  {
   "cell_type": "markdown",
   "id": "34c3cbde-48eb-43e3-86c9-ce68b2601f77",
   "metadata": {},
   "source": [
    "## modeling"
   ]
  },
  {
   "cell_type": "code",
   "execution_count": 81,
   "id": "f8822afe-ca82-410f-8e03-822c4beca219",
   "metadata": {},
   "outputs": [],
   "source": [
    "from sklearn import linear_model"
   ]
  },
  {
   "cell_type": "code",
   "execution_count": 105,
   "id": "a19912d7-fca4-4bb0-8644-372a8f93aaff",
   "metadata": {},
   "outputs": [
    {
     "name": "stdout",
     "output_type": "stream",
     "text": [
      "coefficients : [[1.04913454 1.20815251 0.94610807]]\n",
      "Intercept : [0.06453034]\n"
     ]
    }
   ],
   "source": [
    "regr = linear_model.LinearRegression()\n",
    "train_x = np.asanyarray(train[['na_sales', 'eu_sales', 'jp_sales']])\n",
    "train_y = np.asanyarray(train[['global_sales']])\n",
    "regr.fit(train_x, train_y)\n",
    "#the coefficients\n",
    "print ('coefficients :', regr.coef_)\n",
    "#the intercept\n",
    "print ('Intercept :', regr.intercept_)"
   ]
  },
  {
   "cell_type": "markdown",
   "id": "38f95eea-2140-454b-b055-1c04ec2c1cc6",
   "metadata": {},
   "source": [
    "## Prediction"
   ]
  },
  {
   "cell_type": "code",
   "execution_count": 107,
   "id": "4451b403-75d9-4254-9768-ff17ee2af8df",
   "metadata": {},
   "outputs": [
    {
     "name": "stdout",
     "output_type": "stream",
     "text": [
      "Residual sum of squares: 0.14\n",
      "Variance score: 0.99\n"
     ]
    }
   ],
   "source": [
    "y_hat= regr.predict(test_x)\n",
    "test_x = np.asanyarray(test[['na_sales','eu_sales','jp_sales']])\n",
    "test_y = np.asanyarray(test[['global_sales']])\n",
    "print(\"Residual sum of squares: %.2f\"\n",
    "      % np.mean((y_hat - y) ** 2))\n",
    "\n",
    "# Explained variance score: 1 is perfect prediction\n",
    "print('Variance score: %.2f' % regr.score(x, y))"
   ]
  },
  {
   "cell_type": "markdown",
   "id": "713b56e1-9a71-4316-99b1-ab4ef63d6cda",
   "metadata": {},
   "source": [
    "###\n",
    "\n",
    "# Good Luck!!\n",
    "### My Github : ARSALANnom\n",
    "### My Linkedin : www.linkedin.com/in/arsalannom\n",
    "\n",
    "## THE END"
   ]
  }
 ],
 "metadata": {
  "kernelspec": {
   "display_name": "Python 3 (ipykernel)",
   "language": "python",
   "name": "python3"
  },
  "language_info": {
   "codemirror_mode": {
    "name": "ipython",
    "version": 3
   },
   "file_extension": ".py",
   "mimetype": "text/x-python",
   "name": "python",
   "nbconvert_exporter": "python",
   "pygments_lexer": "ipython3",
   "version": "3.13.0"
  }
 },
 "nbformat": 4,
 "nbformat_minor": 5
}
